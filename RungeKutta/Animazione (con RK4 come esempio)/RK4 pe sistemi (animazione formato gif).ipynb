{
 "cells": [
  {
   "cell_type": "markdown",
   "metadata": {
    "collapsed": false
   },
   "source": [
    "Ciao guagliù, imparo come creare una animazione e salvarla sullo stesso notebook **in formato `.gif`**(un altro modo è usare `ffmpeg`, questo è meglio perche accussi potete scaricarlo come un file `mp4`)"
   ]
  },
  {
   "cell_type": "code",
   "execution_count": 1,
   "metadata": {
    "collapsed": false
   },
   "outputs": [
    {
     "name": "stderr",
     "output_type": "stream",
     "text": [
      "INFO: Loading help data...\n"
     ]
    }
   ],
   "source": [
    "using PyPlot"
   ]
  },
  {
   "cell_type": "code",
   "execution_count": 2,
   "metadata": {
    "collapsed": true
   },
   "outputs": [],
   "source": [
    "using PyPlot"
   ]
  },
  {
   "cell_type": "code",
   "execution_count": 3,
   "metadata": {
    "collapsed": true
   },
   "outputs": [],
   "source": [
    "using PyCall\n",
    "@pyimport matplotlib.animation as anim"
   ]
  },
  {
   "cell_type": "code",
   "execution_count": 4,
   "metadata": {
    "collapsed": false
   },
   "outputs": [
    {
     "data": {
      "text/plain": [
       "runge_kutta (generic function with 1 method)"
      ]
     },
     "execution_count": 4,
     "metadata": {},
     "output_type": "execute_result"
    }
   ],
   "source": [
    "function runge_kutta(t0, x0, h, N, f)\n",
    "    t_actual = t0\n",
    "    x_actual = x0\n",
    "    \n",
    "    ts = Float64[t_actual]\n",
    "    xs = Vector{Float64}[[x_actual]]\n",
    "    \n",
    "    for i in 1:h:N\n",
    "        k1 = f(t_actual, x_actual)\n",
    "        k2 = f(t_actual + 0.5h, x_actual + 0.5h*k1)\n",
    "        k3 = f(t_actual + 0.5h, x_actual + 0.5h*k2)\n",
    "        k4 = f(t_actual + h, x_actual + h*k3)\n",
    "        \n",
    "        K = h*(k1 + 2k2 + 2k3 + k4)/6\n",
    "        \n",
    "        t_nueva = t_actual + h\n",
    "        x_nueva = x_actual + K\n",
    "        \n",
    "        t_actual = t_nueva\n",
    "        x_actual = x_nueva\n",
    "        \n",
    "        push!(ts, t_actual)\n",
    "        push!(xs, x_actual)\n",
    "    end\n",
    "    nuevas_xs = hcat(xs...)'\n",
    "    \n",
    "    ts, nuevas_xs\n",
    "end"
   ]
  },
  {
   "cell_type": "code",
   "execution_count": 5,
   "metadata": {
    "collapsed": false
   },
   "outputs": [
    {
     "data": {
      "text/plain": [
       "funcionprueba1 (generic function with 1 method)"
      ]
     },
     "execution_count": 5,
     "metadata": {},
     "output_type": "execute_result"
    }
   ],
   "source": [
    "function funcionprueba1(t, X)\n",
    "    x, y = X\n",
    "    return [y, -x + (1 - x^2)*y]\n",
    "end"
   ]
  },
  {
   "cell_type": "code",
   "execution_count": 6,
   "metadata": {
    "collapsed": false
   },
   "outputs": [
    {
     "data": {
      "text/plain": [
       "([0.0,0.125,0.25,0.375,0.5,0.625,0.75,0.875,1.0,1.125  …  30.0,30.125,30.25,30.375,30.5,30.625,30.75,30.875,31.0,31.125],\n",
       "250x2 Array{Float64,2}:\n",
       "  1.0        1.0      \n",
       "  1.11627    0.853497 \n",
       "  1.21198    0.673677 \n",
       "  1.28399    0.477242 \n",
       "  1.33126    0.279969 \n",
       "  1.35444    0.0932544\n",
       "  1.35527   -0.0770156\n",
       "  1.33592   -0.229727 \n",
       "  1.29848   -0.367031 \n",
       "  1.24464   -0.492913 \n",
       "  1.17553   -0.612211 \n",
       "  1.09165   -0.730105 \n",
       "  0.992838  -0.85194  \n",
       "  ⋮                   \n",
       " -1.92231   -0.756576 \n",
       " -1.98855   -0.324574 \n",
       " -2.00856   -0.0144793\n",
       " -1.99619    0.198814 \n",
       " -1.9616     0.345511 \n",
       " -1.91154    0.450012 \n",
       " -1.85013    0.529371 \n",
       " -1.77976    0.594872 \n",
       " -1.70167    0.653968 \n",
       " -1.61632    0.711806 \n",
       " -1.52361    0.772264 \n",
       " -1.42301    0.838658 )"
      ]
     },
     "execution_count": 6,
     "metadata": {},
     "output_type": "execute_result"
    }
   ],
   "source": [
    "τ, Χ = runge_kutta(0, [1, 1], 0.125, 32, funcionprueba1)"
   ]
  },
  {
   "cell_type": "code",
   "execution_count": 7,
   "metadata": {
    "collapsed": false
   },
   "outputs": [
    {
     "data": {
      "text/plain": [
       "250-element Array{Float64,1}:\n",
       "  1.0      \n",
       "  0.853497 \n",
       "  0.673677 \n",
       "  0.477242 \n",
       "  0.279969 \n",
       "  0.0932544\n",
       " -0.0770156\n",
       " -0.229727 \n",
       " -0.367031 \n",
       " -0.492913 \n",
       " -0.612211 \n",
       " -0.730105 \n",
       " -0.85194  \n",
       "  ⋮        \n",
       " -0.756576 \n",
       " -0.324574 \n",
       " -0.0144793\n",
       "  0.198814 \n",
       "  0.345511 \n",
       "  0.450012 \n",
       "  0.529371 \n",
       "  0.594872 \n",
       "  0.653968 \n",
       "  0.711806 \n",
       "  0.772264 \n",
       "  0.838658 "
      ]
     },
     "execution_count": 7,
     "metadata": {},
     "output_type": "execute_result"
    }
   ],
   "source": [
    "χ₁ = Χ[:, 1]\n",
    "χ₂ = Χ[:, 2]"
   ]
  },
  {
   "cell_type": "code",
   "execution_count": 8,
   "metadata": {
    "collapsed": false
   },
   "outputs": [
    {
     "data": {
      "image/png": "[encoded data removed]",
      "text/plain": [
       "Figure(PyObject <matplotlib.figure.Figure object at 0x7f59b4cd6d90>)"
      ]
     },
     "metadata": {},
     "output_type": "display_data"
    },
    {
     "data": {
      "text/plain": [
       "animate (generic function with 1 method)"
      ]
     },
     "execution_count": 8,
     "metadata": {},
     "output_type": "execute_result"
    }
   ],
   "source": [
    "fig = figure()\n",
    "ax = axes(xlim=(-2,2), ylim=(-3,3))\n",
    "\n",
    "global particle = ax[:plot]([], [], \"go\", lw=2)[1]\n",
    "global trail = ax[:plot]([], [], \"b-\", lw=1)[1]\n",
    "\n",
    "function init()\n",
    "    global particle\n",
    "    global trail\n",
    "    \n",
    "    particle[:set_data]([], [])\n",
    "    trail[:set_data]([], [])\n",
    "    \n",
    "    \n",
    "    return ([particle, trail], None)\n",
    "end\n",
    "\n",
    "\n",
    "function animate(i)\n",
    "    global particle\n",
    "    global trail\n",
    "    \n",
    "    trail[:set_data](χ₁[1:i+1], χ₂[1:i+1])\n",
    "    particle[:set_data](χ₁[i+1], χ₂[i+1])\n",
    "    return([particle, trail], None)\n",
    "end"
   ]
  },
  {
   "cell_type": "code",
   "execution_count": 9,
   "metadata": {
    "collapsed": false
   },
   "outputs": [],
   "source": [
    "myanim = anim.FuncAnimation(fig, animate, init_func=init, frames=100, interval=20, blit=true);\n",
    "myanim[:save](\"vanderpol.gif\", writer=\"imagemagick\", fps=30);"
   ]
  },
  {
   "cell_type": "markdown",
   "metadata": {},
   "source": [
    "**Ogni volta che generate il gif**\n",
    "\n",
    "1. Cancellate la caché del suo navigatore\n",
    "2. Selezionate la cella di Markdown da sotto\n",
    "3. Cliccate `Enter`\n",
    "4. Finalmete cliccate `Shift` + `Enter`"
   ]
  },
  {
   "cell_type": "markdown",
   "metadata": {},
   "source": [
    "`![anim](vanderpol.gif)`\n",
    "![anim](vanderpol.gif)"
   ]
  },
  {
   "cell_type": "markdown",
   "metadata": {},
   "source": [
    "state senza pensieri guagliù :-)"
   ]
  }
 ],
 "metadata": {
  "kernelspec": {
   "display_name": "Julia 0.3.11",
   "language": "julia",
   "name": "julia-0.3"
  },
  "language_info": {
   "file_extension": ".jl",
   "mimetype": "application/julia",
   "name": "julia",
   "version": "0.3.11"
  }
 },
 "nbformat": 4,
 "nbformat_minor": 0
}
